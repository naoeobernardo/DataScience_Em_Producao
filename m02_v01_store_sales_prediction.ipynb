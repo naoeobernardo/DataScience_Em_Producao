{
 "cells": [
  {
   "cell_type": "markdown",
   "id": "alike-neighborhood",
   "metadata": {},
   "source": [
    "# 0.0. Imports"
   ]
  },
  {
   "cell_type": "code",
   "execution_count": 30,
   "id": "sixth-surgery",
   "metadata": {},
   "outputs": [],
   "source": [
    "import math\n",
    "import pandas as pd\n",
    "import inflection"
   ]
  },
  {
   "cell_type": "markdown",
   "id": "destroyed-riverside",
   "metadata": {
    "heading_collapsed": true
   },
   "source": [
    "## 0.1. Helper Functions"
   ]
  },
  {
   "cell_type": "markdown",
   "id": "centered-eugene",
   "metadata": {
    "heading_collapsed": true
   },
   "source": [
    "## 0.2. Loading Data"
   ]
  },
  {
   "cell_type": "code",
   "execution_count": 11,
   "id": "alleged-confidence",
   "metadata": {
    "hidden": true
   },
   "outputs": [],
   "source": [
    "df_sales_raw = pd.read_csv('data/train.csv', low_memory = False)\n",
    "df_store_raw = pd.read_csv('data/store.csv', low_memory = False)\n",
    "\n",
    "#merge\n",
    "\n",
    "df_raw = pd.merge(df_sales_raw, df_store_raw, how= 'left', on= 'Store' )"
   ]
  },
  {
   "cell_type": "markdown",
   "id": "victorian-bibliography",
   "metadata": {},
   "source": [
    "# 1.0. Descrição dos Dados"
   ]
  },
  {
   "cell_type": "code",
   "execution_count": 45,
   "id": "broke-neighbor",
   "metadata": {},
   "outputs": [],
   "source": [
    "df1 = df_raw"
   ]
  },
  {
   "cell_type": "markdown",
   "id": "conscious-matthew",
   "metadata": {},
   "source": [
    "## 1.1 Rename"
   ]
  },
  {
   "cell_type": "code",
   "execution_count": 46,
   "id": "ready-brief",
   "metadata": {},
   "outputs": [],
   "source": [
    "cols_old = ['Store', 'DayOfWeek', 'Date', 'Sales', 'Customers', 'Open', 'Promo','StateHoliday', 'SchoolHoliday',\n",
    "        'StoreType', 'Assortment','CompetitionDistance', 'CompetitionOpenSinceMonth','CompetitionOpenSinceYear', \n",
    "        'Promo2', 'Promo2SinceWeek','Promo2SinceYear', 'PromoInterval']\n",
    "\n",
    "snakecase = lambda x: inflection.underscore(x)\n",
    "cols_new = list(map(snakecase,cols_old))\n",
    "\n",
    "#rename\n",
    "df1.columns = cols_new"
   ]
  },
  {
   "cell_type": "markdown",
   "id": "light-tender",
   "metadata": {},
   "source": [
    "## 1.2 Data Dimensions"
   ]
  },
  {
   "cell_type": "code",
   "execution_count": 47,
   "id": "special-tradition",
   "metadata": {},
   "outputs": [
    {
     "name": "stdout",
     "output_type": "stream",
     "text": [
      "Rows:1017209\n",
      "Cols:18\n"
     ]
    }
   ],
   "source": [
    "print('Rows:{}'.format(df1.shape[0]))\n",
    "print('Cols:{}'.format(df1.shape[1]))"
   ]
  },
  {
   "cell_type": "markdown",
   "id": "nasty-coffee",
   "metadata": {},
   "source": [
    "## 1.3. Data Types"
   ]
  },
  {
   "cell_type": "code",
   "execution_count": 48,
   "id": "indian-ottawa",
   "metadata": {},
   "outputs": [
    {
     "data": {
      "text/plain": [
       "store                                    int64\n",
       "day_of_week                              int64\n",
       "date                            datetime64[ns]\n",
       "sales                                    int64\n",
       "customers                                int64\n",
       "open                                     int64\n",
       "promo                                    int64\n",
       "state_holiday                           object\n",
       "school_holiday                           int64\n",
       "store_type                              object\n",
       "assortment                              object\n",
       "competition_distance                   float64\n",
       "competition_open_since_month           float64\n",
       "competition_open_since_year            float64\n",
       "promo2                                   int64\n",
       "promo2_since_week                      float64\n",
       "promo2_since_year                      float64\n",
       "promo_interval                          object\n",
       "dtype: object"
      ]
     },
     "execution_count": 48,
     "metadata": {},
     "output_type": "execute_result"
    }
   ],
   "source": [
    "df1['date'] = pd.to_datetime(df1['date'])\n",
    "df1.dtypes"
   ]
  },
  {
   "cell_type": "markdown",
   "id": "finite-skiing",
   "metadata": {},
   "source": [
    "## 1.4. Check NA"
   ]
  },
  {
   "cell_type": "code",
   "execution_count": 53,
   "id": "ruled-control",
   "metadata": {},
   "outputs": [
    {
     "data": {
      "text/plain": [
       "store                                0\n",
       "day_of_week                          0\n",
       "date                                 0\n",
       "sales                                0\n",
       "customers                            0\n",
       "open                                 0\n",
       "promo                                0\n",
       "state_holiday                        0\n",
       "school_holiday                       0\n",
       "store_type                           0\n",
       "assortment                           0\n",
       "competition_distance                 0\n",
       "competition_open_since_month    323348\n",
       "competition_open_since_year     323348\n",
       "promo2                               0\n",
       "promo2_since_week               508031\n",
       "promo2_since_year               508031\n",
       "promo_interval                  508031\n",
       "dtype: int64"
      ]
     },
     "execution_count": 53,
     "metadata": {},
     "output_type": "execute_result"
    }
   ],
   "source": [
    "df1.isna().sum()"
   ]
  },
  {
   "cell_type": "markdown",
   "id": "significant-doctrine",
   "metadata": {},
   "source": [
    "## 1.1 Fillout NA"
   ]
  },
  {
   "cell_type": "code",
   "execution_count": 52,
   "id": "distant-motor",
   "metadata": {},
   "outputs": [
    {
     "data": {
      "text/plain": [
       "200000.0"
      ]
     },
     "execution_count": 52,
     "metadata": {},
     "output_type": "execute_result"
    }
   ],
   "source": [
    "df1['competition_distance'].max()"
   ]
  },
  {
   "cell_type": "code",
   "execution_count": 51,
   "id": "immune-planner",
   "metadata": {},
   "outputs": [],
   "source": [
    "#competition_distance            \n",
    "     #logica detalhada\n",
    "     # df1['competition_distance'].apply(lambda df1: 200000.0 if math.isnan(df1['competition_distance'])else df1['competition_distance'])\n",
    "        \n",
    "df1['competition_distance']=  df1['competition_distance'].apply(lambda x: 200000.0 if math.isnan(x) else (x))\n",
    "\n",
    "#competition_open_since_month    \n",
    "#competition_open_since_year     \n",
    "#promo2                          \n",
    "#promo2_since_week               \n",
    "#promo2_since_year               \n",
    "#promo_interval                  "
   ]
  },
  {
   "cell_type": "markdown",
   "id": "unique-assets",
   "metadata": {},
   "source": [
    "## 1.1 "
   ]
  }
 ],
 "metadata": {
  "kernelspec": {
   "display_name": "Python 3",
   "language": "python",
   "name": "python3"
  },
  "language_info": {
   "codemirror_mode": {
    "name": "ipython",
    "version": 3
   },
   "file_extension": ".py",
   "mimetype": "text/x-python",
   "name": "python",
   "nbconvert_exporter": "python",
   "pygments_lexer": "ipython3",
   "version": "3.8.0"
  }
 },
 "nbformat": 4,
 "nbformat_minor": 5
}
